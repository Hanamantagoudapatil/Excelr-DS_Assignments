{
  "nbformat": 4,
  "nbformat_minor": 0,
  "metadata": {
    "colab": {
      "provenance": []
    },
    "kernelspec": {
      "name": "python3",
      "display_name": "Python 3"
    },
    "language_info": {
      "name": "python"
    }
  },
  "cells": [
    {
      "cell_type": "code",
      "execution_count": 1,
      "metadata": {
        "id": "GJxz2kQeTztl"
      },
      "outputs": [],
      "source": [
        "import numpy as np\n",
        "import scipy.stats as stats\n",
        "\n",
        "\n",
        "sample_mean = 3050\n",
        "theoretical_mean = 1000 + 5 * 600\n",
        "std_dev_X = 25\n",
        "n = 25\n",
        "alpha = 0.05"
      ]
    },
    {
      "cell_type": "markdown",
      "source": [
        "#1. State the Hypotheses:\n",
        "H0 (null hypothesis): The weekly operating cost follows the theoretical model (mean = 4000).\n",
        "\n",
        "HA (alternative hypothesis): The weekly operating cost is higher than the theoretical model (mean > 4000)."
      ],
      "metadata": {
        "id": "EvChOeXnUGCG"
      }
    },
    {
      "cell_type": "markdown",
      "source": [
        "#2. Calculate the Test Statistic:"
      ],
      "metadata": {
        "id": "q9GCRg1qUakO"
      }
    },
    {
      "cell_type": "code",
      "source": [
        "# 2. Calculate the Test Statistic:\n",
        "std_dev_W = 5 * std_dev_X\n",
        "t_stat = (sample_mean - theoretical_mean) / (std_dev_W / np.sqrt(n))"
      ],
      "metadata": {
        "id": "uzhwMDLvUKYg"
      },
      "execution_count": 2,
      "outputs": []
    },
    {
      "cell_type": "markdown",
      "source": [
        "#3. Determine the Critical Value:"
      ],
      "metadata": {
        "id": "36VETPdYUfFE"
      }
    },
    {
      "cell_type": "code",
      "source": [
        "critical_value = stats.norm.ppf(1 - alpha)"
      ],
      "metadata": {
        "id": "KQXn5n4XUfoj"
      },
      "execution_count": 3,
      "outputs": []
    },
    {
      "cell_type": "markdown",
      "source": [
        "#4. Make a Decision:"
      ],
      "metadata": {
        "id": "0B_Pf1xaUrzs"
      }
    },
    {
      "cell_type": "code",
      "source": [
        "reject_null = t_stat > critical_value\n",
        "\n",
        "print(\"Hypothesis Testing for Weekly Operating Costs\")\n",
        "print(\"\\nTheoretical Mean Weekly Cost:\",theoretical_mean)\n",
        "print(\"\\nSample Mean Weekly Cost:\",sample_mean)\n",
        "print(\"\\nSample Size:\",n)\n",
        "print(\"\\nStandard Deviation of Weekly Operating Cost:\",std_dev_W)\n",
        "print(\"\\nTest Statistic (t):\",t_stat)\n",
        "print(\"\\nCritical Value at alpha={alpha}:\",critical_value)\n",
        "print(\"\\nReject the null hypothesis:\",reject_null)\n",
        "print(\"\\n\")\n",
        "\n",
        "if reject_null:\n",
        "    print(\"Conclusion: There is strong evidence to support the restaurant owners' claim that the weekly operating costs are higher than the model suggests.\")\n",
        "else:\n",
        "    print(\"Conclusion: There is not enough evidence to support the restaurant owners' claim that the weekly operating costs are higher than the model suggests.\")"
      ],
      "metadata": {
        "colab": {
          "base_uri": "https://localhost:8080/"
        },
        "id": "gGll46boUtLi",
        "outputId": "c2ac7e9c-0504-480b-c0d6-fe8cf196fe88"
      },
      "execution_count": 4,
      "outputs": [
        {
          "output_type": "stream",
          "name": "stdout",
          "text": [
            "Hypothesis Testing for Weekly Operating Costs\n",
            "\n",
            "Theoretical Mean Weekly Cost: 4000\n",
            "\n",
            "Sample Mean Weekly Cost: 3050\n",
            "\n",
            "Sample Size: 25\n",
            "\n",
            "Standard Deviation of Weekly Operating Cost: 125\n",
            "\n",
            "Test Statistic (t): -38.0\n",
            "\n",
            "Critical Value at alpha={alpha}: 1.6448536269514722\n",
            "\n",
            "Reject the null hypothesis: False\n",
            "\n",
            "\n",
            "Conclusion: There is not enough evidence to support the restaurant owners' claim that the weekly operating costs are higher than the model suggests.\n"
          ]
        }
      ]
    }
  ]
}