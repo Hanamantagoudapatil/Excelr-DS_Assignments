{
  "nbformat": 4,
  "nbformat_minor": 0,
  "metadata": {
    "colab": {
      "provenance": []
    },
    "kernelspec": {
      "name": "python3",
      "display_name": "Python 3"
    },
    "language_info": {
      "name": "python"
    }
  },
  "cells": [
    {
      "cell_type": "code",
      "execution_count": 1,
      "metadata": {
        "id": "hSUA_7WpU-Df"
      },
      "outputs": [],
      "source": [
        "import numpy as np\n",
        "import scipy.stats as stats\n",
        "\n",
        "observed = np.array([[50, 70],[80, 100],[60, 90],[30, 50],[20, 50]])"
      ]
    },
    {
      "cell_type": "markdown",
      "source": [
        "#1. State the Hypotheses:\n",
        "H0 (null hypothesis): There is no significant association between the type of device and customer satisfaction level.\n",
        "\n",
        "HA (alternative hypothesis): There is a significant association between the type of device and customer satisfaction level."
      ],
      "metadata": {
        "id": "IQM-2QHvVNrW"
      }
    },
    {
      "cell_type": "markdown",
      "source": [
        "#2. Compute the Chi-Square Statistic:"
      ],
      "metadata": {
        "id": "CZ7waVPvVVZX"
      }
    },
    {
      "cell_type": "code",
      "source": [
        "chi2_stat, p_val, dof, expected = stats.chi2_contingency(observed)"
      ],
      "metadata": {
        "id": "mMEORh-zVNOG"
      },
      "execution_count": 2,
      "outputs": []
    },
    {
      "cell_type": "markdown",
      "source": [
        "#3. Determine the Critical Value:"
      ],
      "metadata": {
        "id": "MIdrJ6VrVXNf"
      }
    },
    {
      "cell_type": "code",
      "source": [
        "alpha = 0.05\n",
        "critical_value = stats.chi2.ppf(1 - alpha, dof)"
      ],
      "metadata": {
        "id": "3L26KNosVXx1"
      },
      "execution_count": 3,
      "outputs": []
    },
    {
      "cell_type": "markdown",
      "source": [
        "#4. Make a Decision:"
      ],
      "metadata": {
        "id": "uSmwCuZxVYNF"
      }
    },
    {
      "cell_type": "code",
      "source": [
        "reject_null = chi2_stat > critical_value\n",
        "\n",
        "\n",
        "print(\"Chi-Square Test for Independence\")\n",
        "print(\"Observed Data:\\n\",observed)\n",
        "print(\"\\n Expected Frequencies:\\n\",expected)\n",
        "print(\"\\nChi-Square Statistic:\",chi2_stat)\n",
        "print(\"\\nDegrees of Freedom:\",dof)\n",
        "print(\"\\nCritical Value:\",critical_value)\n",
        "print(\"\\nP-value:\",p_val)\n",
        "print(\"\\nReject the null hypothesis:\",reject_null)\n",
        "print(\"\\n\")\n",
        "\n",
        "if reject_null:\n",
        "    print(\"Conclusion: There is a significant association between the type of device and customer satisfaction level.\")\n",
        "else:\n",
        "    print(\"Conclusion: There is no significant association between the type of device and customer satisfaction level.\")"
      ],
      "metadata": {
        "colab": {
          "base_uri": "https://localhost:8080/"
        },
        "id": "9mxr28J7VYq5",
        "outputId": "c904e48d-879d-4ab4-9f55-57017a69d526"
      },
      "execution_count": 4,
      "outputs": [
        {
          "output_type": "stream",
          "name": "stdout",
          "text": [
            "Chi-Square Test for Independence\n",
            "Observed Data:\n",
            " [[ 50  70]\n",
            " [ 80 100]\n",
            " [ 60  90]\n",
            " [ 30  50]\n",
            " [ 20  50]]\n",
            "\n",
            " Expected Frequencies:\n",
            " [[ 48.  72.]\n",
            " [ 72. 108.]\n",
            " [ 60.  90.]\n",
            " [ 32.  48.]\n",
            " [ 28.  42.]]\n",
            "\n",
            "Chi-Square Statistic: 5.638227513227513\n",
            "\n",
            "Degrees of Freedom: 4\n",
            "\n",
            "Critical Value: 9.487729036781154\n",
            "\n",
            "P-value: 0.22784371130697179\n",
            "\n",
            "Reject the null hypothesis: False\n",
            "\n",
            "\n",
            "Conclusion: There is no significant association between the type of device and customer satisfaction level.\n"
          ]
        }
      ]
    }
  ]
}